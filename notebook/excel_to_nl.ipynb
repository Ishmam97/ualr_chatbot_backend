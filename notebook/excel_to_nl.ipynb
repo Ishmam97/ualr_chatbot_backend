{
 "cells": [
  {
   "cell_type": "markdown",
   "metadata": {},
   "source": [
    "### Importing the Libraries"
   ]
  },
  {
   "cell_type": "code",
   "execution_count": 31,
   "metadata": {},
   "outputs": [],
   "source": [
    "import pandas as pd\n",
    "import json"
   ]
  },
  {
   "cell_type": "code",
   "execution_count": 32,
   "metadata": {},
   "outputs": [],
   "source": [
    "df = pd.read_excel(\"../data/Current Graduate Coordinators.xlsx\")"
   ]
  },
  {
   "cell_type": "code",
   "execution_count": 33,
   "metadata": {},
   "outputs": [
    {
     "data": {
      "text/plain": [
       "Index(['Program Code', 'Concentration', 'Field', 'Department', 'Program',\n",
       "       'Campus', 'College', 'Activity Indicator', ' Primary Coordinator',\n",
       "       ' PC - Email', 'Backup Coordinator 1', 'B1 - Email',\n",
       "       'Backup Coordinator 2', 'B2 - Email', 'Backup Coordinator 3',\n",
       "       'B3 - Email', 'Backup Coordinator 4', 'B4 - Email', 'Assistant',\n",
       "       'Asst. - Email', 'Unnamed: 20', 'Unnamed: 21'],\n",
       "      dtype='object')"
      ]
     },
     "execution_count": 33,
     "metadata": {},
     "output_type": "execute_result"
    }
   ],
   "source": [
    "df.columns"
   ]
  },
  {
   "cell_type": "code",
   "execution_count": 15,
   "metadata": {},
   "outputs": [],
   "source": [
    "standard_columns = [\n",
    "    \"program_code\",\n",
    "    \"concentration\",\n",
    "    \"field\",\n",
    "    \"department\",\n",
    "    \"program\",\n",
    "    \"campus\",\n",
    "    \"college\",\n",
    "    \"activity_indicator\",\n",
    "    \"primary_coordinator\",\n",
    "    \"primary_coordinator_email\",\n",
    "    \"backup_coordinator_1\",\n",
    "    \"backup_1_email\",\n",
    "    \"backup_coordinator_2\",\n",
    "    \"backup_2_email\",\n",
    "    \"backup_coordinator_3\",\n",
    "    \"backup_3_email\",\n",
    "    \"backup_coordinator_4\",\n",
    "    \"backup_4_email\",\n",
    "    \"assistant\",\n",
    "    \"assistant_email\"\n",
    "]\n"
   ]
  },
  {
   "cell_type": "markdown",
   "metadata": {},
   "source": [
    "### Fix Column nmame inconsistencies"
   ]
  },
  {
   "cell_type": "code",
   "execution_count": 16,
   "metadata": {},
   "outputs": [],
   "source": [
    "df.columns = [col.strip().lower().replace(' ', '_').replace('-', '_') for col in df.columns]\n",
    "df = df.loc[:, ~df.columns.str.contains('^unnamed')]"
   ]
  },
  {
   "cell_type": "code",
   "execution_count": 17,
   "metadata": {},
   "outputs": [
    {
     "data": {
      "text/plain": [
       "Index(['program_code', 'concentration', 'field', 'department', 'program',\n",
       "       'campus', 'college', 'activity_indicator', 'primary_coordinator',\n",
       "       'pc___email', 'backup_coordinator_1', 'b1___email',\n",
       "       'backup_coordinator_2', 'b2___email', 'backup_coordinator_3',\n",
       "       'b3___email', 'backup_coordinator_4', 'b4___email', 'assistant',\n",
       "       'asst.___email'],\n",
       "      dtype='object')"
      ]
     },
     "execution_count": 17,
     "metadata": {},
     "output_type": "execute_result"
    }
   ],
   "source": [
    "df.columns"
   ]
  },
  {
   "cell_type": "markdown",
   "metadata": {},
   "source": [
    "### Convert to Natural language"
   ]
  },
  {
   "cell_type": "code",
   "execution_count": 18,
   "metadata": {},
   "outputs": [],
   "source": [
    "\n",
    "def excel_row_to_natural_language(row):\n",
    "    parts = []\n",
    "\n",
    "    # Basic program info\n",
    "    if pd.notna(row['program']):\n",
    "        parts.append(f\"The program is '{row['program']}'\")\n",
    "    if pd.notna(row['program_code']):\n",
    "        parts.append(f\"with code '{row['program_code']}'\")\n",
    "    if pd.notna(row['concentration']):\n",
    "        parts.append(f\"under the concentration '{row['concentration']}'\")\n",
    "    if pd.notna(row['field']):\n",
    "        parts.append(f\"in the field of '{row['field']}'\")\n",
    "    if pd.notna(row['department']):\n",
    "        parts.append(f\"offered by the '{row['department']}' department\")\n",
    "    if pd.notna(row['campus']):\n",
    "        parts.append(f\"located at the '{row['campus']}' campus\")\n",
    "    if pd.notna(row['college']):\n",
    "        parts.append(f\"under the '{row['college']}' college\")\n",
    "\n",
    "    # Activity status\n",
    "    if pd.notna(row['activity_indicator']):\n",
    "        parts.append(f\"The program is currently marked as '{row['activity_indicator']}'.\")\n",
    "\n",
    "    # Coordinator info\n",
    "    if pd.notna(row['primary_coordinator']) and pd.notna(row['pc___email']):\n",
    "        parts.append(f\"The primary graduate coordinator is {row['primary_coordinator']} ({row['pc___email']}).\")\n",
    "\n",
    "    for i in range(1, 5):\n",
    "        name_key = f'backup_coordinator_{i}'\n",
    "        email_key = f'b{i}___email'\n",
    "        if pd.notna(row.get(name_key)) and pd.notna(row.get(email_key)):\n",
    "            parts.append(f\"Backup Coordinator {i}: {row[name_key]} ({row[email_key]}).\")\n",
    "\n",
    "    if pd.notna(row.get('assistant')) and pd.notna(row.get('asst.___email')):\n",
    "        parts.append(f\"Program Assistant: {row['assistant']} ({row['asst.___email']}).\")\n",
    "\n",
    "    return ' '.join(parts)\n"
   ]
  },
  {
   "cell_type": "code",
   "execution_count": 20,
   "metadata": {},
   "outputs": [
    {
     "data": {
      "text/html": [
       "<div>\n",
       "<style scoped>\n",
       "    .dataframe tbody tr th:only-of-type {\n",
       "        vertical-align: middle;\n",
       "    }\n",
       "\n",
       "    .dataframe tbody tr th {\n",
       "        vertical-align: top;\n",
       "    }\n",
       "\n",
       "    .dataframe thead th {\n",
       "        text-align: right;\n",
       "    }\n",
       "</style>\n",
       "<table border=\"1\" class=\"dataframe\">\n",
       "  <thead>\n",
       "    <tr style=\"text-align: right;\">\n",
       "      <th></th>\n",
       "      <th>program_code</th>\n",
       "      <th>concentration</th>\n",
       "      <th>field</th>\n",
       "      <th>department</th>\n",
       "      <th>program</th>\n",
       "      <th>campus</th>\n",
       "      <th>college</th>\n",
       "      <th>activity_indicator</th>\n",
       "      <th>primary_coordinator</th>\n",
       "      <th>pc___email</th>\n",
       "      <th>backup_coordinator_1</th>\n",
       "      <th>b1___email</th>\n",
       "      <th>backup_coordinator_2</th>\n",
       "      <th>b2___email</th>\n",
       "      <th>backup_coordinator_3</th>\n",
       "      <th>b3___email</th>\n",
       "      <th>backup_coordinator_4</th>\n",
       "      <th>b4___email</th>\n",
       "      <th>assistant</th>\n",
       "      <th>asst.___email</th>\n",
       "    </tr>\n",
       "  </thead>\n",
       "  <tbody>\n",
       "    <tr>\n",
       "      <th>0</th>\n",
       "      <td>ACCT-GC</td>\n",
       "      <td>NaN</td>\n",
       "      <td>ACCX</td>\n",
       "      <td>ACCT</td>\n",
       "      <td>Accounting</td>\n",
       "      <td>Main</td>\n",
       "      <td>CB</td>\n",
       "      <td>Inactive</td>\n",
       "      <td>Sonya Premeaux</td>\n",
       "      <td>sfpremeaux@ualr.edu</td>\n",
       "      <td>NaN</td>\n",
       "      <td>NaN</td>\n",
       "      <td>NaN</td>\n",
       "      <td>NaN</td>\n",
       "      <td>NaN</td>\n",
       "      <td>NaN</td>\n",
       "      <td>NaN</td>\n",
       "      <td>NaN</td>\n",
       "      <td>NaN</td>\n",
       "      <td>NaN</td>\n",
       "    </tr>\n",
       "    <tr>\n",
       "      <th>1</th>\n",
       "      <td>ACCT-MACC</td>\n",
       "      <td>NaN</td>\n",
       "      <td>ACCT</td>\n",
       "      <td>ACCT</td>\n",
       "      <td>Accounting-MACC</td>\n",
       "      <td>Main</td>\n",
       "      <td>CB</td>\n",
       "      <td>Inactive</td>\n",
       "      <td>Sonya Premeaux</td>\n",
       "      <td>sfpremeaux@ualr.edu</td>\n",
       "      <td>NaN</td>\n",
       "      <td>NaN</td>\n",
       "      <td>NaN</td>\n",
       "      <td>NaN</td>\n",
       "      <td>NaN</td>\n",
       "      <td>NaN</td>\n",
       "      <td>NaN</td>\n",
       "      <td>NaN</td>\n",
       "      <td>NaN</td>\n",
       "      <td>NaN</td>\n",
       "    </tr>\n",
       "    <tr>\n",
       "      <th>2</th>\n",
       "      <td>AEAX-GC</td>\n",
       "      <td>NaN</td>\n",
       "      <td>AEAX</td>\n",
       "      <td>CHPR</td>\n",
       "      <td>Adult Education: Additional Licensure - GC</td>\n",
       "      <td>Main</td>\n",
       "      <td>BH</td>\n",
       "      <td>Inactive</td>\n",
       "      <td>Jennifer Holtz</td>\n",
       "      <td>jkholtz@ualr.edu</td>\n",
       "      <td>NaN</td>\n",
       "      <td>NaN</td>\n",
       "      <td>NaN</td>\n",
       "      <td>NaN</td>\n",
       "      <td>NaN</td>\n",
       "      <td>NaN</td>\n",
       "      <td>NaN</td>\n",
       "      <td>NaN</td>\n",
       "      <td>Alicia Williams</td>\n",
       "      <td>arwilliams@ualr.edu</td>\n",
       "    </tr>\n",
       "    <tr>\n",
       "      <th>3</th>\n",
       "      <td>AED-MED</td>\n",
       "      <td>NaN</td>\n",
       "      <td>AED</td>\n",
       "      <td>CHPR</td>\n",
       "      <td>Adult Education - MED</td>\n",
       "      <td>Main</td>\n",
       "      <td>BH</td>\n",
       "      <td>Inactive</td>\n",
       "      <td>Jennifer Holtz</td>\n",
       "      <td>jkholtz@ualr.edu</td>\n",
       "      <td>NaN</td>\n",
       "      <td>NaN</td>\n",
       "      <td>April Chatham-Carpenter</td>\n",
       "      <td>axchathamca@ualr.edu</td>\n",
       "      <td>NaN</td>\n",
       "      <td>NaN</td>\n",
       "      <td>NaN</td>\n",
       "      <td>NaN</td>\n",
       "      <td>Alicia Williams</td>\n",
       "      <td>arwilliams@ualr.edu</td>\n",
       "    </tr>\n",
       "    <tr>\n",
       "      <th>4</th>\n",
       "      <td>APCS-MA</td>\n",
       "      <td>NaN</td>\n",
       "      <td>APCS</td>\n",
       "      <td>APCS</td>\n",
       "      <td>Applied Communication Studies - MA</td>\n",
       "      <td>Main</td>\n",
       "      <td>CH</td>\n",
       "      <td>Active</td>\n",
       "      <td>Bailey Blackburn</td>\n",
       "      <td>boblackburn@ualr.edu</td>\n",
       "      <td>Gerald Driskall</td>\n",
       "      <td>gwdriskill@ualr.edu</td>\n",
       "      <td>April Chatham-Carpenter</td>\n",
       "      <td>axchathamca@ualr.edu</td>\n",
       "      <td>NaN</td>\n",
       "      <td>NaN</td>\n",
       "      <td>NaN</td>\n",
       "      <td>NaN</td>\n",
       "      <td>NaN</td>\n",
       "      <td>NaN</td>\n",
       "    </tr>\n",
       "  </tbody>\n",
       "</table>\n",
       "</div>"
      ],
      "text/plain": [
       "  program_code concentration field department  \\\n",
       "0      ACCT-GC           NaN  ACCX       ACCT   \n",
       "1    ACCT-MACC           NaN  ACCT       ACCT   \n",
       "2      AEAX-GC           NaN  AEAX       CHPR   \n",
       "3      AED-MED           NaN   AED       CHPR   \n",
       "4      APCS-MA           NaN  APCS       APCS   \n",
       "\n",
       "                                      program campus college  \\\n",
       "0                                  Accounting   Main      CB   \n",
       "1                             Accounting-MACC   Main      CB   \n",
       "2  Adult Education: Additional Licensure - GC   Main      BH   \n",
       "3                       Adult Education - MED   Main      BH   \n",
       "4          Applied Communication Studies - MA   Main      CH   \n",
       "\n",
       "  activity_indicator    primary_coordinator            pc___email  \\\n",
       "0           Inactive         Sonya Premeaux   sfpremeaux@ualr.edu   \n",
       "1           Inactive         Sonya Premeaux   sfpremeaux@ualr.edu   \n",
       "2           Inactive         Jennifer Holtz      jkholtz@ualr.edu   \n",
       "3           Inactive         Jennifer Holtz      jkholtz@ualr.edu   \n",
       "4             Active       Bailey Blackburn  boblackburn@ualr.edu   \n",
       "\n",
       "  backup_coordinator_1           b1___email     backup_coordinator_2  \\\n",
       "0                  NaN                  NaN                      NaN   \n",
       "1                  NaN                  NaN                      NaN   \n",
       "2                  NaN                  NaN                      NaN   \n",
       "3                  NaN                  NaN  April Chatham-Carpenter   \n",
       "4      Gerald Driskall  gwdriskill@ualr.edu  April Chatham-Carpenter   \n",
       "\n",
       "             b2___email backup_coordinator_3 b3___email backup_coordinator_4  \\\n",
       "0                   NaN                  NaN        NaN                  NaN   \n",
       "1                   NaN                  NaN        NaN                  NaN   \n",
       "2                   NaN                  NaN        NaN                  NaN   \n",
       "3  axchathamca@ualr.edu                  NaN        NaN                  NaN   \n",
       "4  axchathamca@ualr.edu                  NaN        NaN                  NaN   \n",
       "\n",
       "  b4___email        assistant        asst.___email  \n",
       "0        NaN              NaN                  NaN  \n",
       "1        NaN              NaN                  NaN  \n",
       "2        NaN  Alicia Williams  arwilliams@ualr.edu  \n",
       "3        NaN  Alicia Williams  arwilliams@ualr.edu  \n",
       "4        NaN              NaN                  NaN  "
      ]
     },
     "execution_count": 20,
     "metadata": {},
     "output_type": "execute_result"
    }
   ],
   "source": [
    "df.head()"
   ]
  },
  {
   "cell_type": "code",
   "execution_count": 29,
   "metadata": {},
   "outputs": [],
   "source": [
    "def convert_excel_to_json_nl(excel_path, output_path):  # nl = natural language\n",
    "    df = pd.read_excel(excel_path)\n",
    "    df.columns = [c.strip().lower().replace(' ', '_').replace('-', '_') for c in df.columns]\n",
    "    df = df.loc[:, ~df.columns.str.contains('^unnamed')]\n",
    "\n",
    "    with open(output_path, \"w\") as f:\n",
    "        for _, row in df.iterrows():\n",
    "            text = excel_row_to_natural_language(row)\n",
    "            f.write(json.dumps({\"text\": text}) + \"\\n\")\n"
   ]
  },
  {
   "cell_type": "code",
   "execution_count": 30,
   "metadata": {},
   "outputs": [],
   "source": [
    "convert_excel_to_json_nl(\"../data/Current Graduate Coordinators.xlsx\", \"program_grad_coord.jsonl\")\n"
   ]
  }
 ],
 "metadata": {
  "kernelspec": {
   "display_name": "3.11.9",
   "language": "python",
   "name": "python3"
  },
  "language_info": {
   "codemirror_mode": {
    "name": "ipython",
    "version": 3
   },
   "file_extension": ".py",
   "mimetype": "text/x-python",
   "name": "python",
   "nbconvert_exporter": "python",
   "pygments_lexer": "ipython3",
   "version": "3.11.9"
  }
 },
 "nbformat": 4,
 "nbformat_minor": 2
}
